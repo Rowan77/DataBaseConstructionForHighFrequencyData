{
 "cells": [
  {
   "cell_type": "markdown",
   "id": "1e9ae1bc",
   "metadata": {},
   "source": [
    "# High Frequency Finance Coursework I                        \n",
    "<h4>K23023533 Jhao-Wei Chen</h4>"
   ]
  },
  {
   "cell_type": "markdown",
   "id": "2648534a",
   "metadata": {},
   "source": [
    "\n",
    "<style>\n",
    ".output {\n",
    "    flex-direction: row;\n",
    "}\n",
    ".output_png {\n",
    "    display: table-cell;\n",
    "    text-align: center;\n",
    "    vertical-align: middle;\n",
    "}\n",
    "div.output_subarea {\n",
    "    overflow-x: auto;\n",
    "}\n",
    "</style>\n",
    "\n"
   ]
  },
  {
   "cell_type": "markdown",
   "id": "f1e3f752",
   "metadata": {},
   "source": [
    "<h2>Part I: Compare SQL and NoSQL</h2> \n",
    "\n",
    "***\n",
    "To compare SQL and NoSQL databases, it is essential to understand what these terms represent. \n",
    "<br>\n",
    "<br>\n",
    "SQL databases, which interact through SQL, store data in tables and use keys for data recognition and connection. These databases are typically ordered, structured and relational. It is worth noting that SQL databases have three vital characteristics: standardization, ease of use, and stability. Firstly, standardization refers to the consistent use of the same standardized language, SQL across different roles and different SQL databases. As for ease of use, it means that SQL is a simple language which does not have complex structures and can be easily learned. Lastly, stability indicates that it follows the ACID principle (Atomicity, Consistency, Isolation, and Durability). For instance, Oracle, MySQL, and Microsoft SQL Server are all well-known SQL databases. \n",
    "<br>\n",
    "<br>\n",
    "On the other hand, NoSQL databases store data in formats like JSON, rather than in tables, providing multiple types of data storage including key-value pairs, documents, and graphs. Compared with SQL databases, NoSQL databases have four advantages: flexibility, scalability, high performance, and high functionality. First and foremost, flexibility refers to the ability to accommodate many data types and models, which makes it more elastic. Secondly, scalability indicates that users can horizontally expand databases. Regarding high performance, this advantage represents improved efficiency in optimizing specific data models. Last but not least, high functionality denotes that various APIs and data for data models are available in NoSQL databases.\n",
    "<br><br>\n",
    "Considering the characteristics of SQL and NoSQL databases mentioned above, it can be concluded that there are three main differences between them. First, SQL databases are structured and follow a regulated schema, enabling users to search data by identifying relationships within the databases. In contrast, this approach is not applicable in NoSQL databases, which do not support searching data as trading factors in the same way. However, NoSQL databases can store a wider variety of data types, including those not encountered before. Second, scalability marks a significant difference between them. NoSQL databases, which support horizontal scalability, can manage high volumes and velocities of data by adding more servers. On the other hand, SQL databases usually increase capacity through significant investments in hardware upgrades. Third, the query language constitutes another key difference. SQL databases use SQL as their query language, making it easy and intuitive for users to search data. Nevertheless, NoSQL databases employ various query languages across different data models, which can confuse traders and slow down decision-making processes.\n",
    "<br>\n",
    "<br>\n",
    "In conclusion, based on the differences in structures, scalability, and query languages, SQL databases are structured and intuitive, while NoSQL databases are flexible and scalable.\n"
   ]
  },
  {
   "cell_type": "markdown",
   "id": "50f219e8",
   "metadata": {},
   "source": [
    "<b>Comparative Table:</b>\n",
    "<table border=\"1\">\n",
    "  <tr>\n",
    "    <th>Aspect</th>\n",
    "    <th>SQL Databases</th>\n",
    "    <th>NoSQL Databases</th>\n",
    "  </tr>\n",
    "  <tr>\n",
    "    <td>Data Storage</td>\n",
    "    <td>Store data in tables</td>\n",
    "    <td>Store data in formats like JSON</td>\n",
    "  </tr>\n",
    "  <tr>\n",
    "    <td>Schema</td>\n",
    "    <td>Structured and regulated</td>\n",
    "    <td>elastic, supporting various data types</td>\n",
    "  </tr>\n",
    "  <tr>\n",
    "    <td>Scalability</td>\n",
    "    <td>vertical, hard to handle high-frequency finance data</td>\n",
    "    <td>horizontal, easier to handle high-frequency finance data</td>\n",
    "  </tr>\n",
    "  <tr>\n",
    "    <td>Query Language</td>\n",
    "    <td>only SQL, easy and intuitive</td>\n",
    "    <td>various query languages, hard and complicated</td>\n",
    "  </tr>\n",
    "</table>\n"
   ]
  },
  {
   "cell_type": "markdown",
   "id": "7c70b02c",
   "metadata": {},
   "source": [
    "<h2>Part II: Create a database for high-frequency data</h2> \n",
    "\n",
    "***"
   ]
  },
  {
   "cell_type": "markdown",
   "id": "01c9572d",
   "metadata": {},
   "source": [
    "<h3>1. Data Analysis and Pre-processing</h3>"
   ]
  },
  {
   "cell_type": "markdown",
   "id": "c6431c99",
   "metadata": {},
   "source": [
    "<b>(1) OrderDetail</b>"
   ]
  },
  {
   "cell_type": "code",
   "execution_count": 46,
   "id": "8968ed49",
   "metadata": {
    "scrolled": true
   },
   "outputs": [
    {
     "data": {
      "text/html": [
       "<div>\n",
       "<style scoped>\n",
       "    .dataframe tbody tr th:only-of-type {\n",
       "        vertical-align: middle;\n",
       "    }\n",
       "\n",
       "    .dataframe tbody tr th {\n",
       "        vertical-align: top;\n",
       "    }\n",
       "\n",
       "    .dataframe thead th {\n",
       "        text-align: right;\n",
       "    }\n",
       "</style>\n",
       "<table border=\"1\" class=\"dataframe\">\n",
       "  <thead>\n",
       "    <tr style=\"text-align: right;\">\n",
       "      <th></th>\n",
       "      <th>OrderCode</th>\n",
       "      <th>MarketSegmentCode</th>\n",
       "      <th>MarketSectorCode</th>\n",
       "      <th>TICode</th>\n",
       "      <th>CountryOfRegister</th>\n",
       "      <th>CurrencyCode</th>\n",
       "      <th>ParticipantCode</th>\n",
       "      <th>BuySellInd</th>\n",
       "    </tr>\n",
       "  </thead>\n",
       "  <tbody>\n",
       "    <tr>\n",
       "      <th>0</th>\n",
       "      <td>709ENVUN07</td>\n",
       "      <td>SET1</td>\n",
       "      <td>FE10</td>\n",
       "      <td>GB0009252882</td>\n",
       "      <td>GB</td>\n",
       "      <td>GBX</td>\n",
       "      <td>NaN</td>\n",
       "      <td>S</td>\n",
       "    </tr>\n",
       "    <tr>\n",
       "      <th>1</th>\n",
       "      <td>208ATNHG07</td>\n",
       "      <td>SET1</td>\n",
       "      <td>FE10</td>\n",
       "      <td>GB0009252882</td>\n",
       "      <td>GB</td>\n",
       "      <td>GBX</td>\n",
       "      <td>NaN</td>\n",
       "      <td>S</td>\n",
       "    </tr>\n",
       "    <tr>\n",
       "      <th>2</th>\n",
       "      <td>006D95WX07</td>\n",
       "      <td>SET1</td>\n",
       "      <td>FE10</td>\n",
       "      <td>GB0009252882</td>\n",
       "      <td>GB</td>\n",
       "      <td>GBX</td>\n",
       "      <td>NaN</td>\n",
       "      <td>S</td>\n",
       "    </tr>\n",
       "    <tr>\n",
       "      <th>3</th>\n",
       "      <td>006D94UH07</td>\n",
       "      <td>SET1</td>\n",
       "      <td>FE10</td>\n",
       "      <td>GB0009252882</td>\n",
       "      <td>GB</td>\n",
       "      <td>GBX</td>\n",
       "      <td>NaN</td>\n",
       "      <td>B</td>\n",
       "    </tr>\n",
       "    <tr>\n",
       "      <th>4</th>\n",
       "      <td>709FJNIR07</td>\n",
       "      <td>SET1</td>\n",
       "      <td>FE10</td>\n",
       "      <td>GB0009252882</td>\n",
       "      <td>GB</td>\n",
       "      <td>GBX</td>\n",
       "      <td>NaN</td>\n",
       "      <td>S</td>\n",
       "    </tr>\n",
       "    <tr>\n",
       "      <th>5</th>\n",
       "      <td>709EPA1T07</td>\n",
       "      <td>SET1</td>\n",
       "      <td>FE10</td>\n",
       "      <td>GB0009252882</td>\n",
       "      <td>GB</td>\n",
       "      <td>GBX</td>\n",
       "      <td>NaN</td>\n",
       "      <td>S</td>\n",
       "    </tr>\n",
       "    <tr>\n",
       "      <th>6</th>\n",
       "      <td>709EODFR07</td>\n",
       "      <td>SET1</td>\n",
       "      <td>FE10</td>\n",
       "      <td>GB0009252882</td>\n",
       "      <td>GB</td>\n",
       "      <td>GBX</td>\n",
       "      <td>NaN</td>\n",
       "      <td>S</td>\n",
       "    </tr>\n",
       "    <tr>\n",
       "      <th>7</th>\n",
       "      <td>609JJXF807</td>\n",
       "      <td>SET1</td>\n",
       "      <td>FE10</td>\n",
       "      <td>GB0009252882</td>\n",
       "      <td>GB</td>\n",
       "      <td>GBX</td>\n",
       "      <td>NaN</td>\n",
       "      <td>S</td>\n",
       "    </tr>\n",
       "    <tr>\n",
       "      <th>8</th>\n",
       "      <td>5099MB5A07</td>\n",
       "      <td>SET1</td>\n",
       "      <td>FE10</td>\n",
       "      <td>GB0009252882</td>\n",
       "      <td>GB</td>\n",
       "      <td>GBX</td>\n",
       "      <td>NaN</td>\n",
       "      <td>S</td>\n",
       "    </tr>\n",
       "    <tr>\n",
       "      <th>9</th>\n",
       "      <td>308PVR0Q07</td>\n",
       "      <td>SET1</td>\n",
       "      <td>FE10</td>\n",
       "      <td>GB0009252882</td>\n",
       "      <td>GB</td>\n",
       "      <td>GBX</td>\n",
       "      <td>NaN</td>\n",
       "      <td>S</td>\n",
       "    </tr>\n",
       "  </tbody>\n",
       "</table>\n",
       "</div>"
      ],
      "text/plain": [
       "    OrderCode MarketSegmentCode MarketSectorCode        TICode  \\\n",
       "0  709ENVUN07              SET1             FE10  GB0009252882   \n",
       "1  208ATNHG07              SET1             FE10  GB0009252882   \n",
       "2  006D95WX07              SET1             FE10  GB0009252882   \n",
       "3  006D94UH07              SET1             FE10  GB0009252882   \n",
       "4  709FJNIR07              SET1             FE10  GB0009252882   \n",
       "5  709EPA1T07              SET1             FE10  GB0009252882   \n",
       "6  709EODFR07              SET1             FE10  GB0009252882   \n",
       "7  609JJXF807              SET1             FE10  GB0009252882   \n",
       "8  5099MB5A07              SET1             FE10  GB0009252882   \n",
       "9  308PVR0Q07              SET1             FE10  GB0009252882   \n",
       "\n",
       "  CountryOfRegister CurrencyCode  ParticipantCode BuySellInd  \n",
       "0                GB          GBX              NaN          S  \n",
       "1                GB          GBX              NaN          S  \n",
       "2                GB          GBX              NaN          S  \n",
       "3                GB          GBX              NaN          B  \n",
       "4                GB          GBX              NaN          S  \n",
       "5                GB          GBX              NaN          S  \n",
       "6                GB          GBX              NaN          S  \n",
       "7                GB          GBX              NaN          S  \n",
       "8                GB          GBX              NaN          S  \n",
       "9                GB          GBX              NaN          S  "
      ]
     },
     "execution_count": 46,
     "metadata": {},
     "output_type": "execute_result"
    }
   ],
   "source": [
    "import pandas as pd\n",
    "import pandas as pd\n",
    "import sqlite3\n",
    "from sqlalchemy import create_engine\n",
    "\n",
    "# Convert allGlaxoOrderDetail into a DataFrame\n",
    "column_names = ['OrderCode', 'MarketSegmentCode', 'MarketSectorCode', 'TICode', \n",
    "                'CountryOfRegister', 'CurrencyCode', 'ParticipantCode', 'BuySellInd', \n",
    "                'MarketMechanismGroup', 'MarketMechanismType', 'Price', 'AggregateSize',\n",
    "                'SingleFillInd', 'BroadcastUpdateAction', 'Date', 'Time', \n",
    "                'MessageSequenceNumber']  \n",
    "\n",
    "Detail = pd.read_csv('allGlaxoOrderDetail.csv', header=None, names=column_names)\n",
    "\n",
    "# Show allGlaxoOrderDetail\n",
    "Detail.iloc[:10, :8]"
   ]
  },
  {
   "cell_type": "markdown",
   "id": "def45290",
   "metadata": {},
   "source": [
    "<b>(2) OrderHistory</b>"
   ]
  },
  {
   "cell_type": "code",
   "execution_count": 47,
   "id": "f62b5ec0",
   "metadata": {
    "scrolled": true
   },
   "outputs": [
    {
     "data": {
      "text/html": [
       "<div>\n",
       "<style scoped>\n",
       "    .dataframe tbody tr th:only-of-type {\n",
       "        vertical-align: middle;\n",
       "    }\n",
       "\n",
       "    .dataframe tbody tr th {\n",
       "        vertical-align: top;\n",
       "    }\n",
       "\n",
       "    .dataframe thead th {\n",
       "        text-align: right;\n",
       "    }\n",
       "</style>\n",
       "<table border=\"1\" class=\"dataframe\">\n",
       "  <thead>\n",
       "    <tr style=\"text-align: right;\">\n",
       "      <th></th>\n",
       "      <th>OrderCode</th>\n",
       "      <th>OrderActionType</th>\n",
       "      <th>MatchingOrderCode</th>\n",
       "      <th>TradeSize</th>\n",
       "      <th>TradeCode</th>\n",
       "      <th>TICode</th>\n",
       "      <th>CountryOfRegister</th>\n",
       "      <th>CurrencyCode</th>\n",
       "    </tr>\n",
       "  </thead>\n",
       "  <tbody>\n",
       "    <tr>\n",
       "      <th>0</th>\n",
       "      <td>208VSG5Q07</td>\n",
       "      <td>M</td>\n",
       "      <td>709JKPU707</td>\n",
       "      <td>500</td>\n",
       "      <td>709JKPUL07</td>\n",
       "      <td>GB0009252882</td>\n",
       "      <td>GB</td>\n",
       "      <td>GBX</td>\n",
       "    </tr>\n",
       "    <tr>\n",
       "      <th>1</th>\n",
       "      <td>609NJZ0107</td>\n",
       "      <td>M</td>\n",
       "      <td>308XOPF507</td>\n",
       "      <td>243</td>\n",
       "      <td>308XOPF807</td>\n",
       "      <td>GB0009252882</td>\n",
       "      <td>GB</td>\n",
       "      <td>GBX</td>\n",
       "    </tr>\n",
       "    <tr>\n",
       "      <th>2</th>\n",
       "      <td>308WLUQQ07</td>\n",
       "      <td>M</td>\n",
       "      <td>609MGG5Y07</td>\n",
       "      <td>1680</td>\n",
       "      <td>609MGG5Z07</td>\n",
       "      <td>GB0009252882</td>\n",
       "      <td>GB</td>\n",
       "      <td>GBX</td>\n",
       "    </tr>\n",
       "    <tr>\n",
       "      <th>3</th>\n",
       "      <td>208SG8CP07</td>\n",
       "      <td>M</td>\n",
       "      <td>509ABGBD07</td>\n",
       "      <td>3288</td>\n",
       "      <td>509ABGBI07</td>\n",
       "      <td>GB0009252882</td>\n",
       "      <td>GB</td>\n",
       "      <td>GBX</td>\n",
       "    </tr>\n",
       "    <tr>\n",
       "      <th>4</th>\n",
       "      <td>609MYSWA07</td>\n",
       "      <td>M</td>\n",
       "      <td>208V4A1707</td>\n",
       "      <td>12148</td>\n",
       "      <td>208V4A1807</td>\n",
       "      <td>GB0009252882</td>\n",
       "      <td>GB</td>\n",
       "      <td>GBX</td>\n",
       "    </tr>\n",
       "    <tr>\n",
       "      <th>5</th>\n",
       "      <td>609R1IHO07</td>\n",
       "      <td>M</td>\n",
       "      <td>408LULF907</td>\n",
       "      <td>392</td>\n",
       "      <td>408LULFE07</td>\n",
       "      <td>GB0009252882</td>\n",
       "      <td>GB</td>\n",
       "      <td>GBX</td>\n",
       "    </tr>\n",
       "    <tr>\n",
       "      <th>6</th>\n",
       "      <td>006QWO5E07</td>\n",
       "      <td>D</td>\n",
       "      <td>NaN</td>\n",
       "      <td>0</td>\n",
       "      <td>NaN</td>\n",
       "      <td>GB0009252882</td>\n",
       "      <td>GB</td>\n",
       "      <td>GBX</td>\n",
       "    </tr>\n",
       "    <tr>\n",
       "      <th>7</th>\n",
       "      <td>3095JP3907</td>\n",
       "      <td>D</td>\n",
       "      <td>NaN</td>\n",
       "      <td>0</td>\n",
       "      <td>NaN</td>\n",
       "      <td>GB0009252882</td>\n",
       "      <td>GB</td>\n",
       "      <td>GBX</td>\n",
       "    </tr>\n",
       "    <tr>\n",
       "      <th>8</th>\n",
       "      <td>509JJ8KI07</td>\n",
       "      <td>D</td>\n",
       "      <td>NaN</td>\n",
       "      <td>0</td>\n",
       "      <td>NaN</td>\n",
       "      <td>GB0009252882</td>\n",
       "      <td>GB</td>\n",
       "      <td>GBX</td>\n",
       "    </tr>\n",
       "    <tr>\n",
       "      <th>9</th>\n",
       "      <td>20938C5X07</td>\n",
       "      <td>D</td>\n",
       "      <td>NaN</td>\n",
       "      <td>0</td>\n",
       "      <td>NaN</td>\n",
       "      <td>GB0009252882</td>\n",
       "      <td>GB</td>\n",
       "      <td>GBX</td>\n",
       "    </tr>\n",
       "  </tbody>\n",
       "</table>\n",
       "</div>"
      ],
      "text/plain": [
       "    OrderCode OrderActionType MatchingOrderCode  TradeSize   TradeCode  \\\n",
       "0  208VSG5Q07               M        709JKPU707        500  709JKPUL07   \n",
       "1  609NJZ0107               M        308XOPF507        243  308XOPF807   \n",
       "2  308WLUQQ07               M        609MGG5Y07       1680  609MGG5Z07   \n",
       "3  208SG8CP07               M        509ABGBD07       3288  509ABGBI07   \n",
       "4  609MYSWA07               M        208V4A1707      12148  208V4A1807   \n",
       "5  609R1IHO07               M        408LULF907        392  408LULFE07   \n",
       "6  006QWO5E07               D               NaN          0         NaN   \n",
       "7  3095JP3907               D               NaN          0         NaN   \n",
       "8  509JJ8KI07               D               NaN          0         NaN   \n",
       "9  20938C5X07               D               NaN          0         NaN   \n",
       "\n",
       "         TICode CountryOfRegister CurrencyCode  \n",
       "0  GB0009252882                GB          GBX  \n",
       "1  GB0009252882                GB          GBX  \n",
       "2  GB0009252882                GB          GBX  \n",
       "3  GB0009252882                GB          GBX  \n",
       "4  GB0009252882                GB          GBX  \n",
       "5  GB0009252882                GB          GBX  \n",
       "6  GB0009252882                GB          GBX  \n",
       "7  GB0009252882                GB          GBX  \n",
       "8  GB0009252882                GB          GBX  \n",
       "9  GB0009252882                GB          GBX  "
      ]
     },
     "execution_count": 47,
     "metadata": {},
     "output_type": "execute_result"
    }
   ],
   "source": [
    "# Convert allGlaxoOrderHistory into a DataFrame\n",
    "column_names = ['OrderCode', 'OrderActionType', 'MatchingOrderCode', 'TradeSize', \n",
    "                'TradeCode', 'TICode', 'CountryOfRegister', 'CurrencyCode',  \n",
    "                'MarketSegmentCode', 'AggregateSize', 'BuySellInd', \n",
    "                'MarketMechanismType', 'MessageSequenceNumber', 'Date', 'Time']  \n",
    "\n",
    "History = pd.read_csv('allGlaxoOrderHistory.csv', header=None, names=column_names)\n",
    "\n",
    "# Show allGlaxoOrderHistory\n",
    "History.iloc[:10, :8]"
   ]
  },
  {
   "cell_type": "markdown",
   "id": "431779fb",
   "metadata": {},
   "source": [
    "<b>(3) TradeReport</b>"
   ]
  },
  {
   "cell_type": "code",
   "execution_count": 48,
   "id": "1c640dc4",
   "metadata": {
    "scrolled": true
   },
   "outputs": [
    {
     "data": {
      "text/html": [
       "<div>\n",
       "<style scoped>\n",
       "    .dataframe tbody tr th:only-of-type {\n",
       "        vertical-align: middle;\n",
       "    }\n",
       "\n",
       "    .dataframe tbody tr th {\n",
       "        vertical-align: top;\n",
       "    }\n",
       "\n",
       "    .dataframe thead th {\n",
       "        text-align: right;\n",
       "    }\n",
       "</style>\n",
       "<table border=\"1\" class=\"dataframe\">\n",
       "  <thead>\n",
       "    <tr style=\"text-align: right;\">\n",
       "      <th></th>\n",
       "      <th>MessageSequenceNumber</th>\n",
       "      <th>TICode</th>\n",
       "      <th>MarketSegmentCode</th>\n",
       "      <th>CountryOfRegister</th>\n",
       "      <th>CurrencyCode</th>\n",
       "      <th>TradeCode</th>\n",
       "      <th>TradePrice</th>\n",
       "      <th>TradeSize</th>\n",
       "    </tr>\n",
       "  </thead>\n",
       "  <tbody>\n",
       "    <tr>\n",
       "      <th>0</th>\n",
       "      <td>1114866</td>\n",
       "      <td>GB0009252882</td>\n",
       "      <td>SET1</td>\n",
       "      <td>GB</td>\n",
       "      <td>GBX</td>\n",
       "      <td>509ABGBI07</td>\n",
       "      <td>1419.0000</td>\n",
       "      <td>3288</td>\n",
       "    </tr>\n",
       "    <tr>\n",
       "      <th>1</th>\n",
       "      <td>438192</td>\n",
       "      <td>GB0009252882</td>\n",
       "      <td>SET1</td>\n",
       "      <td>GB</td>\n",
       "      <td>GBX</td>\n",
       "      <td>308U55BX07</td>\n",
       "      <td>1423.0000</td>\n",
       "      <td>1645</td>\n",
       "    </tr>\n",
       "    <tr>\n",
       "      <th>2</th>\n",
       "      <td>1285577</td>\n",
       "      <td>GB0009252882</td>\n",
       "      <td>SET1</td>\n",
       "      <td>GB</td>\n",
       "      <td>GBX</td>\n",
       "      <td>308UIQWF07</td>\n",
       "      <td>1421.0000</td>\n",
       "      <td>298</td>\n",
       "    </tr>\n",
       "    <tr>\n",
       "      <th>3</th>\n",
       "      <td>736925</td>\n",
       "      <td>GB0009252882</td>\n",
       "      <td>SET1</td>\n",
       "      <td>GB</td>\n",
       "      <td>GBX</td>\n",
       "      <td>208T0L6W07</td>\n",
       "      <td>1401.5000</td>\n",
       "      <td>3</td>\n",
       "    </tr>\n",
       "    <tr>\n",
       "      <th>4</th>\n",
       "      <td>1137035</td>\n",
       "      <td>GB0009252882</td>\n",
       "      <td>SET1</td>\n",
       "      <td>GB</td>\n",
       "      <td>GBX</td>\n",
       "      <td>609K7U8F07</td>\n",
       "      <td>1417.7714</td>\n",
       "      <td>5</td>\n",
       "    </tr>\n",
       "    <tr>\n",
       "      <th>5</th>\n",
       "      <td>900321</td>\n",
       "      <td>GB0009252882</td>\n",
       "      <td>SET1</td>\n",
       "      <td>GB</td>\n",
       "      <td>GBX</td>\n",
       "      <td>208SCS1R07</td>\n",
       "      <td>1420.0000</td>\n",
       "      <td>606</td>\n",
       "    </tr>\n",
       "    <tr>\n",
       "      <th>6</th>\n",
       "      <td>601775</td>\n",
       "      <td>GB0009252882</td>\n",
       "      <td>SET1</td>\n",
       "      <td>GB</td>\n",
       "      <td>GBX</td>\n",
       "      <td>408FNO6107</td>\n",
       "      <td>1404.0000</td>\n",
       "      <td>1500</td>\n",
       "    </tr>\n",
       "    <tr>\n",
       "      <th>7</th>\n",
       "      <td>355811</td>\n",
       "      <td>GB0009252882</td>\n",
       "      <td>SET1</td>\n",
       "      <td>GB</td>\n",
       "      <td>GBX</td>\n",
       "      <td>308U3NHE07</td>\n",
       "      <td>1422.0000</td>\n",
       "      <td>350</td>\n",
       "    </tr>\n",
       "    <tr>\n",
       "      <th>8</th>\n",
       "      <td>664624</td>\n",
       "      <td>GB0009252882</td>\n",
       "      <td>SET1</td>\n",
       "      <td>GB</td>\n",
       "      <td>GBX</td>\n",
       "      <td>408FKOGA07</td>\n",
       "      <td>1401.0000</td>\n",
       "      <td>60</td>\n",
       "    </tr>\n",
       "    <tr>\n",
       "      <th>9</th>\n",
       "      <td>1191567</td>\n",
       "      <td>GB0009252882</td>\n",
       "      <td>SET1</td>\n",
       "      <td>GB</td>\n",
       "      <td>GBX</td>\n",
       "      <td>509B692D07</td>\n",
       "      <td>1415.0000</td>\n",
       "      <td>601</td>\n",
       "    </tr>\n",
       "  </tbody>\n",
       "</table>\n",
       "</div>"
      ],
      "text/plain": [
       "   MessageSequenceNumber        TICode MarketSegmentCode CountryOfRegister  \\\n",
       "0                1114866  GB0009252882              SET1                GB   \n",
       "1                 438192  GB0009252882              SET1                GB   \n",
       "2                1285577  GB0009252882              SET1                GB   \n",
       "3                 736925  GB0009252882              SET1                GB   \n",
       "4                1137035  GB0009252882              SET1                GB   \n",
       "5                 900321  GB0009252882              SET1                GB   \n",
       "6                 601775  GB0009252882              SET1                GB   \n",
       "7                 355811  GB0009252882              SET1                GB   \n",
       "8                 664624  GB0009252882              SET1                GB   \n",
       "9                1191567  GB0009252882              SET1                GB   \n",
       "\n",
       "  CurrencyCode   TradeCode  TradePrice  TradeSize  \n",
       "0          GBX  509ABGBI07   1419.0000       3288  \n",
       "1          GBX  308U55BX07   1423.0000       1645  \n",
       "2          GBX  308UIQWF07   1421.0000        298  \n",
       "3          GBX  208T0L6W07   1401.5000          3  \n",
       "4          GBX  609K7U8F07   1417.7714          5  \n",
       "5          GBX  208SCS1R07   1420.0000        606  \n",
       "6          GBX  408FNO6107   1404.0000       1500  \n",
       "7          GBX  308U3NHE07   1422.0000        350  \n",
       "8          GBX  408FKOGA07   1401.0000         60  \n",
       "9          GBX  509B692D07   1415.0000        601  "
      ]
     },
     "execution_count": 48,
     "metadata": {},
     "output_type": "execute_result"
    }
   ],
   "source": [
    "# Convert allGlaxoTradeReport into a DataFrame\n",
    "column_names = ['MessageSequenceNumber', 'TICode', 'MarketSegmentCode', \n",
    "                'CountryOfRegister', 'CurrencyCode', \n",
    "                'TradeCode', 'TradePrice', 'TradeSize', 'TradeDate', \n",
    "                'TradeTime', 'BroadcastUpdateAction', 'TradeTypeInd', \n",
    "                'TradeTimeInd', 'BargainConditions', 'ConvertedPriceInd',\n",
    "                'PublicationDate', 'PublicationTime']  \n",
    "\n",
    "TradeReport = pd.read_csv('allGlaxoTradeReport.csv', header=None, names=column_names)\n",
    "\n",
    "# Show allGlaxoTradeReport\n",
    "TradeReport.iloc[:10, :8]"
   ]
  },
  {
   "cell_type": "markdown",
   "id": "f5e1fc6e",
   "metadata": {},
   "source": [
    "<h3>2. Create a SQLite Database and Add Tables</h3>"
   ]
  },
  {
   "cell_type": "code",
   "execution_count": 49,
   "id": "98ecc2a6",
   "metadata": {},
   "outputs": [],
   "source": [
    "# Connect to the SQLite database (create one if it does not exist)\n",
    "conn = sqlite3.connect('high_frequency_finance.db')\n",
    "\n",
    "# Create a cursor object using the cursor method\n",
    "cursor = conn.cursor()"
   ]
  },
  {
   "cell_type": "markdown",
   "id": "49f2d152",
   "metadata": {},
   "source": [
    "<b>(1) OrderDetail</b>"
   ]
  },
  {
   "cell_type": "code",
   "execution_count": 50,
   "id": "65d3c072",
   "metadata": {},
   "outputs": [
    {
     "data": {
      "text/plain": [
       "<sqlite3.Cursor at 0x215c3283140>"
      ]
     },
     "execution_count": 50,
     "metadata": {},
     "output_type": "execute_result"
    }
   ],
   "source": [
    "# Create the 'Detail' table\n",
    "create_detail_query = \"\"\"\n",
    "CREATE TABLE IF NOT EXISTS Detail (\n",
    "    OrderCode CHAR(10) NOT NULL,\n",
    "    MarketSegmentCode CHAR(4) NOT NULL,\n",
    "    MarketSectorCode CHAR(4) NOT NULL,\n",
    "    TICode CHAR(12) NOT NULL, \n",
    "    CountryOfRegister CHAR(2) NOT NULL, \n",
    "    CurrencyCode CHAR(3) NOT NULL,     \n",
    "    ParticipantCode CHAR(11),\n",
    "    BuySellInd CHAR(1) NOT NULL,\n",
    "    MarketMechanismGroup CHAR(1) NOT NULL,\n",
    "    MarketMechanismType CHAR(2) NOT NULL,\n",
    "    Price DECIMAL(18,8) NOT NULL,\n",
    "    AggregateSize DECIMAL(12) NOT NULL,\n",
    "    SingleFillInd CHAR(1) NOT NULL,\n",
    "    BroadcastUpdateAction CHAR(1) NOT NULL,\n",
    "    Date TEXT NOT NULL, \n",
    "    Time TEXT NOT NULL,\n",
    "    MessageSequenceNumber INTEGER(10) NOT NULL,    \n",
    "    PRIMARY KEY (OrderCode)\n",
    ");\n",
    "\"\"\"\n",
    "# Execute the create table query\n",
    "cursor.execute(create_detail_query)"
   ]
  },
  {
   "cell_type": "markdown",
   "id": "90b55286",
   "metadata": {},
   "source": [
    "<b>(2) OrderHistory</b>"
   ]
  },
  {
   "cell_type": "code",
   "execution_count": 51,
   "id": "261ba4ce",
   "metadata": {},
   "outputs": [
    {
     "data": {
      "text/plain": [
       "<sqlite3.Cursor at 0x215c3283140>"
      ]
     },
     "execution_count": 51,
     "metadata": {},
     "output_type": "execute_result"
    }
   ],
   "source": [
    "# Create the 'Hisory' table\n",
    "create_Hisory_query = \"\"\"\n",
    "CREATE TABLE IF NOT EXISTS History (\n",
    "    OrderCode CHAR(10) NOT NULL,\n",
    "    OrderActionType CHAR(1) NOT NULL, \n",
    "    MatchingOrderCode CHAR(10), \n",
    "    TradeSize DECIMAL(8), \n",
    "    TradeCode CHAR(10), \n",
    "    TICode CHAR(12) NOT NULL, \n",
    "    CountryOfRegister CHAR(2) NOT NULL, \n",
    "    CurrencyCode CHAR(3) NOT NULL,  \n",
    "    MarketSegmentCode CHAR(4) NOT NULL, \n",
    "    AggregateSize DECIMAL(12) NOT NULL, \n",
    "    BuySellInd CHAR(1) NOT NULL, \n",
    "    MarketMechanismType CHAR(2) NOT NULL, \n",
    "    MessageSequenceNumber INTEGER(10) NOT NULL, \n",
    "    Date TEXT NOT NULL, \n",
    "    Time TEXT NOT NULL,\n",
    "    PRIMARY KEY (OrderCode, MatchingOrderCode)\n",
    ");\n",
    "\"\"\"\n",
    "# Execute the create table query\n",
    "cursor.execute(create_Hisory_query)"
   ]
  },
  {
   "cell_type": "markdown",
   "id": "3e568900",
   "metadata": {},
   "source": [
    "<b>(3) TradeReport</b>"
   ]
  },
  {
   "cell_type": "code",
   "execution_count": 52,
   "id": "2aac1e84",
   "metadata": {},
   "outputs": [
    {
     "data": {
      "text/plain": [
       "<sqlite3.Cursor at 0x215c3283140>"
      ]
     },
     "execution_count": 52,
     "metadata": {},
     "output_type": "execute_result"
    }
   ],
   "source": [
    "# Create the 'TradeReport' table\n",
    "create_tradereport_query = \"\"\"\n",
    "CREATE TABLE IF NOT EXISTS TradeReport (\n",
    "    MessageSequenceNumber INTEGER(10) NOT NULL,\n",
    "    TICode CHAR(12) NOT NULL, \n",
    "    MarketSegmentCode CHAR(4) NOT NULL,\n",
    "    CountryOfRegister CHAR(2) NOT NULL, \n",
    "    CurrencyCode CHAR(3) NOT NULL,\n",
    "    TradeCode CHAR(10) NOT NULL,\n",
    "    TradePrice DECIMAL(18,8) NOT NULL,\n",
    "    TradeSize DECIMAL(12) NOT NULL,\n",
    "    TradeDate TEXT NOT NULL,\n",
    "    TradeTime TEXT NOT NULL,\n",
    "    BroadcastUpdateAction CHAR(1) NOT NULL,\n",
    "    TradeTypeInd CHAR(2) NOT NULL,\n",
    "    TradeTimeInd CHAR(1) NOT NULL,\n",
    "    BargainConditions CHAR(1) NOT NULL,\n",
    "    ConvertedPriceInd CHAR(1) NOT NULL,\n",
    "    PublicationDate TEXT NOT NULL,\n",
    "    PublicationTime TEXT NOT NULL,\n",
    "    PRIMARY KEY (TradeCode,MessageSequenceNumber)\n",
    ");\n",
    "\"\"\"\n",
    "# Execute the create table query\n",
    "cursor.execute(create_tradereport_query)"
   ]
  },
  {
   "cell_type": "code",
   "execution_count": 53,
   "id": "f27d78b9",
   "metadata": {},
   "outputs": [],
   "source": [
    "# Commit the changes and close the connection\n",
    "conn.commit()\n",
    "conn.close()"
   ]
  },
  {
   "cell_type": "markdown",
   "id": "cb90974a",
   "metadata": {},
   "source": [
    "<h3> 3. Convert DataFrames into Tables in the SQLite Database</h3>"
   ]
  },
  {
   "cell_type": "markdown",
   "id": "f8e1b806",
   "metadata": {},
   "source": [
    "<b>(1) OrderDetail</b>"
   ]
  },
  {
   "cell_type": "code",
   "execution_count": 54,
   "id": "75acebbf",
   "metadata": {},
   "outputs": [
    {
     "data": {
      "text/plain": [
       "274322"
      ]
     },
     "execution_count": 54,
     "metadata": {},
     "output_type": "execute_result"
    }
   ],
   "source": [
    "# Put DataFrames into tables\n",
    "# Create a SQLite database connection\n",
    "engine = create_engine('sqlite:///high_frequency_finance.db')\n",
    "\n",
    "# Insert the DataFrame into the 'Detail' table\n",
    "Detail.to_sql('Detail', con=engine, if_exists='append', index=False)"
   ]
  },
  {
   "cell_type": "markdown",
   "id": "3df59532",
   "metadata": {},
   "source": [
    "\n",
    "<img src=\"p2.jpg\" width=\"1000\" height=\"1000\">"
   ]
  },
  {
   "cell_type": "markdown",
   "id": "4aa7b50e",
   "metadata": {},
   "source": [
    "<b>(2) OrderHistory</b>"
   ]
  },
  {
   "cell_type": "code",
   "execution_count": 55,
   "id": "10b03da9",
   "metadata": {},
   "outputs": [
    {
     "data": {
      "text/plain": [
       "322208"
      ]
     },
     "execution_count": 55,
     "metadata": {},
     "output_type": "execute_result"
    }
   ],
   "source": [
    "# Insert the DataFrame into the 'History' table\n",
    "History.to_sql('History', con=engine, if_exists='append', index=False)"
   ]
  },
  {
   "cell_type": "markdown",
   "id": "e9ed9bb4",
   "metadata": {},
   "source": [
    "\n",
    "<img src=\"p1.jpg\" width=\"1000\" height=\"1000\">"
   ]
  },
  {
   "cell_type": "markdown",
   "id": "987f866f",
   "metadata": {},
   "source": [
    "<b> (3) TradeReport </b>"
   ]
  },
  {
   "cell_type": "code",
   "execution_count": 56,
   "id": "da3d0bfa",
   "metadata": {},
   "outputs": [
    {
     "data": {
      "text/plain": [
       "130136"
      ]
     },
     "execution_count": 56,
     "metadata": {},
     "output_type": "execute_result"
    }
   ],
   "source": [
    "# Insert the DataFrame into the 'TradeReport' table\n",
    "TradeReport.to_sql('TradeReport', con=engine, if_exists='append', index=False)"
   ]
  },
  {
   "cell_type": "markdown",
   "id": "fa78459c",
   "metadata": {},
   "source": [
    "<img src=\"p3.jpg\" width=\"1000\" height=\"1000\">"
   ]
  },
  {
   "cell_type": "markdown",
   "id": "ef3035c0",
   "metadata": {},
   "source": [
    "<h3> 4. Merge Tables</h3>"
   ]
  },
  {
   "cell_type": "markdown",
   "id": "4955e8a1",
   "metadata": {},
   "source": [
    "<b> (1) OrderLifecycleDetailTable: </b>\n",
    "<br>\n",
    "&nbsp; &nbsp; &nbsp; &nbsp; Merge OrderDetail and OrderHistory as a new table"
   ]
  },
  {
    "cell_type": "markdown",
    "id": "ceeb09ca",
    "metadata": {},
    "source": [
        "<img src=\"SQL_Merge.jpg\" width=\"600\" height=\"600\">\n\n",
        "<img src=\"p4.jpg\" width=\"1000\" height=\"1000\">"
    ]
},
  {
   "cell_type": "markdown",
   "id": "7dfed16a",
   "metadata": {},
   "source": [
    "<b> (2) TradeExecutionHistoryTable: </b>\n",
    "<br>\n",
    "&nbsp; &nbsp; &nbsp; &nbsp; Merge OrderHistory and TradeReport as a new table"
   ]
  },
  {
   "cell_type": "markdown",
   "id": "3a35a6a8",
   "metadata": {},
   "source": [
    "<img src=\"SQL_Merge2.jpg\" width=\"600\" height=\"600\">\n",
    "<img src=\"p5.jpg\" width=\"1000\" height=\"1000\">"
   ]
  },
  {
   "cell_type": "markdown",
   "id": "95cab2ca",
   "metadata": {},
   "source": [
    "<h3> Database Structure</h3>"
   ]
  },
  {
   "cell_type": "markdown",
   "id": "bc9b05b2",
   "metadata": {},
   "source": [
    "<img src=\"DatabaseStructure2.jpg\" width=\"600\" height=\"600\">"
   ]
  },
  {
   "cell_type": "markdown",
   "id": "2342964a",
   "metadata": {},
   "source": [
    "<h2>Part III: Establish a connection to the database in Python </h2> \n",
    "\n",
    "***\n"
   ]
  },
  {
   "cell_type": "markdown",
   "id": "6b38f3c3",
   "metadata": {},
   "source": [
    "<h3>1. Execute a Query</h3>"
   ]
  },
  {
   "cell_type": "code",
   "execution_count": 57,
   "id": "3bf610f4",
   "metadata": {},
   "outputs": [
    {
     "name": "stdout",
     "output_type": "stream",
     "text": [
      "('006E6OQQ07', 'M', '006ECHAX07', 4910, '006ECHAY07', 'GB0009252882', 'GB', 'GBX', 'SET1', 0, 'B', 'LO', 12320, '1032007', '08:02:42')\n",
      "('006E6OQQ07', 'P', '308TX55U07', 8309, '308TX55V07', 'GB0009252882', 'GB', 'GBX', 'SET1', 8257, 'B', 'LO', 12295, '1032007', '08:02:41')\n",
      "('006E6OQQ07', 'P', '609JQE9H07', 3347, '609JQE9I07', 'GB0009252882', 'GB', 'GBX', 'SET1', 4910, 'B', 'LO', 12303, '1032007', '08:02:41')\n",
      "('006E6OQQ07', 'P', '709FQ38N07', 3434, '709FQ38O07', 'GB0009252882', 'GB', 'GBX', 'SET1', 16566, 'B', 'LO', 12276, '1032007', '08:02:41')\n"
     ]
    }
   ],
   "source": [
    "# Connect to the SQLite database\n",
    "conn = sqlite3.connect('high_frequency_finance.db')\n",
    "\n",
    "# Create a cursor object using the cursor method\n",
    "cursor = conn.cursor()\n",
    "\n",
    "# Choose the order code you want to query\n",
    "sql_query = \"SELECT * FROM History WHERE OrderCode = '006E6OQQ07'\"\n",
    "\n",
    "# Execute the SQL query\n",
    "cursor.execute(sql_query)\n",
    "\n",
    "# Fetch all rows from the query result\n",
    "rows = cursor.fetchall()\n",
    "\n",
    "# Show the query\n",
    "for row in rows:\n",
    "    print(row)\n",
    "\n",
    "# Close the connection\n",
    "conn.close()"
   ]
  },
  {
   "cell_type": "markdown",
   "id": "df7d02bf",
   "metadata": {},
   "source": [
    "<h3>2. Count the Number of Cancelled Orders</h3>"
   ]
  },
  {
   "cell_type": "code",
   "execution_count": 58,
   "id": "bc9d20d1",
   "metadata": {},
   "outputs": [
    {
     "name": "stdout",
     "output_type": "stream",
     "text": [
      "Number of canceled orders: 201675\n"
     ]
    }
   ],
   "source": [
    "# Connect to the SQLite database\n",
    "conn = sqlite3.connect('high_frequency_finance.db')  \n",
    "\n",
    "# Create a cursor object\n",
    "cursor = conn.cursor()\n",
    "\n",
    "# Count the number of cancelled orders\n",
    "sql_query = \"SELECT * FROM History WHERE OrderActionType = 'D'\"\n",
    "# Execute the query\n",
    "cursor.execute(sql_query)\n",
    "\n",
    "# Fetch all rows from the query result\n",
    "rows = cursor.fetchall()\n",
    "\n",
    "\n",
    "# Count the number of cancelled orders\n",
    "count=0\n",
    "for row in rows:\n",
    "    count+=1\n",
    "\n",
    "# Print the result\n",
    "print(f\"Number of canceled orders: {count}\")\n",
    "\n",
    "# Close the connection\n",
    "conn.close()"
   ]
  }
 ],
 "metadata": {
  "kernelspec": {
   "display_name": "Python 3 (ipykernel)",
   "language": "python",
   "name": "python3"
  },
  "language_info": {
   "codemirror_mode": {
    "name": "ipython",
    "version": 3
   },
   "file_extension": ".py",
   "mimetype": "text/x-python",
   "name": "python",
   "nbconvert_exporter": "python",
   "pygments_lexer": "ipython3",
   "version": "3.11.3"
  }
 },
 "nbformat": 4,
 "nbformat_minor": 5
}
